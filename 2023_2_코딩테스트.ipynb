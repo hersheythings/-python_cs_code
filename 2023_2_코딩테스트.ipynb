{
  "cells": [
    {
      "cell_type": "markdown",
      "metadata": {
        "id": "view-in-github",
        "colab_type": "text"
      },
      "source": [
        "<a href=\"https://colab.research.google.com/github/hersheythings/-python_cs_code/blob/master/2023_2_%E1%84%8F%E1%85%A9%E1%84%83%E1%85%B5%E1%86%BC%E1%84%90%E1%85%A6%E1%84%89%E1%85%B3%E1%84%90%E1%85%B3.ipynb\" target=\"_parent\"><img src=\"https://colab.research.google.com/assets/colab-badge.svg\" alt=\"Open In Colab\"/></a>"
      ]
    },
    {
      "cell_type": "markdown",
      "source": [
        "** 코딩테스트 문제는 모두 풀지 않아도 지원 가능합니다. 지원자분들의 전체적인 코딩 실력을 파악하여 커리큘럼에 반영하고자 진행되는 테스트이기 때문에 부담 없이 풀어주시면 됩니다!"
      ],
      "metadata": {
        "id": "BEns5KNM3yde"
      },
      "id": "BEns5KNM3yde"
    },
    {
      "cell_type": "markdown",
      "source": [
        "### 1. 자연수 N을 입력하면 N 이하의 모든 소수(Prime Number)의 합을 반환하는 함수를 작성하시오. 이후 이 함수를 이용하여 100, 1000, 10000 각각에 대한 모든 소수의 합을 구하여 보고하시오."
      ],
      "metadata": {
        "id": "BFL-xW8LtuQZ"
      },
      "id": "BFL-xW8LtuQZ"
    },
    {
      "cell_type": "code",
      "source": [
        "# prime number 라이브러리를 사용해서 쉽게 풀 수 있는 문제"
      ],
      "metadata": {
        "id": "D2mhmr3_zOWC"
      },
      "id": "D2mhmr3_zOWC",
      "execution_count": null,
      "outputs": []
    },
    {
      "cell_type": "markdown",
      "source": [
        "### 2. 김파인 씨는 비밀번호 설정 프로그램을 만드는 중이다. 아래 조건에 부합하는 비밀번호를 입력받으면 해당 비밀번호를 반환하고, 그렇지 않으면 ‘재설정하시오’ 문구를 반환하는 함수를 작성하시오.\n",
        "\n",
        "[조건]\n",
        "1) 4자리 이상, 10자리 이하일 것\n",
        "2) 대소문자 알파벳, 숫자만 사용 가능\n",
        "3) 대문자와 소문자 알파벳을 각각 한 개 이상씩 포함할 것\n",
        "4) 같은 문자 혹은 숫자는 2번까지만 사용 가능\n"
      ],
      "metadata": {
        "id": "P-ZzPu4buLTK"
      },
      "id": "P-ZzPu4buLTK"
    },
    {
      "cell_type": "markdown",
      "id": "81d8d21c",
      "metadata": {
        "id": "81d8d21c"
      },
      "source": [
        "### 3. OOP(객체지향 프로그래밍)\n",
        "당신은 현재 고객의 자산을 관리중에 있습니다. 고객 관리를 편리하게 하기 위해 자산 관리와 관련된 Class를 만들고자 합니다. 다음의 조건과 코드에 맞춰 코드로 구현하여 보고하세요.\n",
        "- 객체 지향 프로그래밍을 할 것\n",
        "- Class 변수에는 다음과 같은 변수가 들어갈 것\n",
        "    - 고객의 이름\n",
        "    - 신탁 자산의 총액\n",
        "    - 시장의 무위험 이자율\n",
        "    - 적용 금리\n",
        "- Class Instance 변수를 보호(protected) 모드로 설정할 것\n",
        "    - 단, 지정된 변수는 property를 이용해 외부에서 접근이 가능하도록 할 것\n",
        "- method로는 다음을 고려할 것\n",
        "    - 현재가치를 미래가치로 변환\n",
        "    - 미래가치를 현재가치로 변환\n",
        "    - 초과 수익률 계산"
      ]
    },
    {
      "cell_type": "code",
      "execution_count": null,
      "id": "ab76bc5b",
      "metadata": {
        "id": "ab76bc5b"
      },
      "outputs": [],
      "source": [
        "class makeAsset(object) :\n",
        "    def __init__(self) :\n",
        "        \"\"\"\n",
        "        고객의 이름, 신탁 자산의 총액, 시장의 무위험 이자율, 적용 금리가 들어가도록 작성하세요.\n",
        "        또한, 지정된 변수를 보호 모드로 설정한 뒤,property를 이용해 외부에서 접근이 가능하도록 지정하세요.\n",
        "        \"\"\"\n",
        "        pass\n",
        "\n",
        "    def present2future(self) :\n",
        "        \"\"\"\n",
        "        현재가치를 미래가치로 변환하는 method입니다\n",
        "        \"\"\"\n",
        "        pass\n",
        "\n",
        "    def future2present(self) :\n",
        "        \"\"\"\n",
        "        미래가치를 현재가치로 변환하는 method입니다\n",
        "        \"\"\"\n",
        "        pass\n",
        "\n",
        "    def excessReturn(self) :\n",
        "        \"\"\"\n",
        "        시장이자율 대비 초과수익률을 계산하는 method입니다. 이자율은 적용이자율과 시장의 무위험 이자율을 사용하세요.\n",
        "        \"\"\"\n",
        "        pass\n",
        "\n",
        "if __name__ == '__main__' :\n",
        "    pass # 프로그램 실행 부분"
      ]
    },
    {
      "cell_type": "markdown",
      "id": "8143b80c",
      "metadata": {
        "id": "8143b80c"
      },
      "source": [
        "### 4. Financial Data Analysis\n",
        "\n",
        "금융 리스크 매니지먼트를 담당하는 당신은 위험을 측정하기 위해 역사적 데이터를 수집하여 Risk를 추정하고자 합니다. pandas-datareader Library를 이용하여 Naver finance의 데이터를 불러온 뒤, KOSPI index, KOSDAQ index의 2020년 1월 1일부터 2023년 6월 30일까지의 데이터를 수집해 각 index별 Risk 추정치를 보고하고 두 index간 correlation을 계산하세요"
      ]
    },
    {
      "cell_type": "code",
      "execution_count": null,
      "id": "272486a4",
      "metadata": {
        "id": "272486a4"
      },
      "outputs": [],
      "source": [
        "import pandas_datareader as web # pip install pandas-datareader\n",
        "\n",
        "# 간단한 pandas 전처리 및 분석 문제"
      ]
    },
    {
      "cell_type": "markdown",
      "source": [
        "### 5. Konlpy 라이브러리를 활용하여 주어진 sample text에서 빈도가 가장 높은 10개의 명사를 리스트 형태로 반환하시오. (풀이 코드도 함께 작성할 것)"
      ],
      "metadata": {
        "id": "NFQ2rfPEuXCh"
      },
      "id": "NFQ2rfPEuXCh"
    },
    {
      "cell_type": "code",
      "source": [
        "#konlpy 라이브러리를 활용하면 쉽게 풀 수 있는 문제"
      ],
      "metadata": {
        "id": "4Qs1rAqPzT5M"
      },
      "id": "4Qs1rAqPzT5M",
      "execution_count": null,
      "outputs": []
    }
  ],
  "metadata": {
    "kernelspec": {
      "display_name": "Python 3 (ipykernel)",
      "language": "python",
      "name": "python3"
    },
    "language_info": {
      "codemirror_mode": {
        "name": "ipython",
        "version": 3
      },
      "file_extension": ".py",
      "mimetype": "text/x-python",
      "name": "python",
      "nbconvert_exporter": "python",
      "pygments_lexer": "ipython3",
      "version": "3.9.13"
    },
    "toc": {
      "base_numbering": 1,
      "nav_menu": {},
      "number_sections": true,
      "sideBar": true,
      "skip_h1_title": false,
      "title_cell": "Table of Contents",
      "title_sidebar": "Contents",
      "toc_cell": false,
      "toc_position": {},
      "toc_section_display": true,
      "toc_window_display": false
    },
    "colab": {
      "provenance": [],
      "collapsed_sections": [
        "81d8d21c"
      ],
      "include_colab_link": true
    }
  },
  "nbformat": 4,
  "nbformat_minor": 5
}